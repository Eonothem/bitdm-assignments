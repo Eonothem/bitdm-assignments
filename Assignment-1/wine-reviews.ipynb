{
 "cells": [
  {
   "cell_type": "code",
   "execution_count": 1,
   "metadata": {},
   "outputs": [],
   "source": [
    "import pandas as pd\n",
    "import numpy as np"
   ]
  },
  {
   "cell_type": "code",
   "execution_count": 2,
   "metadata": {},
   "outputs": [],
   "source": [
    "path = \"./dataset/wine-reviews/\"\n",
    "data_df = pd.read_csv(path+'winemag-data-130k-v2.csv', index_col=0)"
   ]
  },
  {
   "cell_type": "markdown",
   "metadata": {},
   "source": [
    "## 数据摘要"
   ]
  },
  {
   "cell_type": "code",
   "execution_count": 3,
   "metadata": {},
   "outputs": [
    {
     "data": {
      "text/html": [
       "<div>\n",
       "<style scoped>\n",
       "    .dataframe tbody tr th:only-of-type {\n",
       "        vertical-align: middle;\n",
       "    }\n",
       "\n",
       "    .dataframe tbody tr th {\n",
       "        vertical-align: top;\n",
       "    }\n",
       "\n",
       "    .dataframe thead th {\n",
       "        text-align: right;\n",
       "    }\n",
       "</style>\n",
       "<table border=\"1\" class=\"dataframe\">\n",
       "  <thead>\n",
       "    <tr style=\"text-align: right;\">\n",
       "      <th></th>\n",
       "      <th>country</th>\n",
       "      <th>description</th>\n",
       "      <th>designation</th>\n",
       "      <th>points</th>\n",
       "      <th>price</th>\n",
       "      <th>province</th>\n",
       "      <th>region_1</th>\n",
       "      <th>region_2</th>\n",
       "      <th>taster_name</th>\n",
       "      <th>taster_twitter_handle</th>\n",
       "      <th>title</th>\n",
       "      <th>variety</th>\n",
       "      <th>winery</th>\n",
       "    </tr>\n",
       "  </thead>\n",
       "  <tbody>\n",
       "    <tr>\n",
       "      <th>0</th>\n",
       "      <td>Italy</td>\n",
       "      <td>Aromas include tropical fruit, broom, brimston...</td>\n",
       "      <td>Vulkà Bianco</td>\n",
       "      <td>87</td>\n",
       "      <td>NaN</td>\n",
       "      <td>Sicily &amp; Sardinia</td>\n",
       "      <td>Etna</td>\n",
       "      <td>NaN</td>\n",
       "      <td>Kerin O’Keefe</td>\n",
       "      <td>@kerinokeefe</td>\n",
       "      <td>Nicosia 2013 Vulkà Bianco  (Etna)</td>\n",
       "      <td>White Blend</td>\n",
       "      <td>Nicosia</td>\n",
       "    </tr>\n",
       "    <tr>\n",
       "      <th>1</th>\n",
       "      <td>Portugal</td>\n",
       "      <td>This is ripe and fruity, a wine that is smooth...</td>\n",
       "      <td>Avidagos</td>\n",
       "      <td>87</td>\n",
       "      <td>15.0</td>\n",
       "      <td>Douro</td>\n",
       "      <td>NaN</td>\n",
       "      <td>NaN</td>\n",
       "      <td>Roger Voss</td>\n",
       "      <td>@vossroger</td>\n",
       "      <td>Quinta dos Avidagos 2011 Avidagos Red (Douro)</td>\n",
       "      <td>Portuguese Red</td>\n",
       "      <td>Quinta dos Avidagos</td>\n",
       "    </tr>\n",
       "    <tr>\n",
       "      <th>2</th>\n",
       "      <td>US</td>\n",
       "      <td>Tart and snappy, the flavors of lime flesh and...</td>\n",
       "      <td>NaN</td>\n",
       "      <td>87</td>\n",
       "      <td>14.0</td>\n",
       "      <td>Oregon</td>\n",
       "      <td>Willamette Valley</td>\n",
       "      <td>Willamette Valley</td>\n",
       "      <td>Paul Gregutt</td>\n",
       "      <td>@paulgwine</td>\n",
       "      <td>Rainstorm 2013 Pinot Gris (Willamette Valley)</td>\n",
       "      <td>Pinot Gris</td>\n",
       "      <td>Rainstorm</td>\n",
       "    </tr>\n",
       "    <tr>\n",
       "      <th>3</th>\n",
       "      <td>US</td>\n",
       "      <td>Pineapple rind, lemon pith and orange blossom ...</td>\n",
       "      <td>Reserve Late Harvest</td>\n",
       "      <td>87</td>\n",
       "      <td>13.0</td>\n",
       "      <td>Michigan</td>\n",
       "      <td>Lake Michigan Shore</td>\n",
       "      <td>NaN</td>\n",
       "      <td>Alexander Peartree</td>\n",
       "      <td>NaN</td>\n",
       "      <td>St. Julian 2013 Reserve Late Harvest Riesling ...</td>\n",
       "      <td>Riesling</td>\n",
       "      <td>St. Julian</td>\n",
       "    </tr>\n",
       "    <tr>\n",
       "      <th>4</th>\n",
       "      <td>US</td>\n",
       "      <td>Much like the regular bottling from 2012, this...</td>\n",
       "      <td>Vintner's Reserve Wild Child Block</td>\n",
       "      <td>87</td>\n",
       "      <td>65.0</td>\n",
       "      <td>Oregon</td>\n",
       "      <td>Willamette Valley</td>\n",
       "      <td>Willamette Valley</td>\n",
       "      <td>Paul Gregutt</td>\n",
       "      <td>@paulgwine</td>\n",
       "      <td>Sweet Cheeks 2012 Vintner's Reserve Wild Child...</td>\n",
       "      <td>Pinot Noir</td>\n",
       "      <td>Sweet Cheeks</td>\n",
       "    </tr>\n",
       "  </tbody>\n",
       "</table>\n",
       "</div>"
      ],
      "text/plain": [
       "    country                                        description  \\\n",
       "0     Italy  Aromas include tropical fruit, broom, brimston...   \n",
       "1  Portugal  This is ripe and fruity, a wine that is smooth...   \n",
       "2        US  Tart and snappy, the flavors of lime flesh and...   \n",
       "3        US  Pineapple rind, lemon pith and orange blossom ...   \n",
       "4        US  Much like the regular bottling from 2012, this...   \n",
       "\n",
       "                          designation  points  price           province  \\\n",
       "0                        Vulkà Bianco      87    NaN  Sicily & Sardinia   \n",
       "1                            Avidagos      87   15.0              Douro   \n",
       "2                                 NaN      87   14.0             Oregon   \n",
       "3                Reserve Late Harvest      87   13.0           Michigan   \n",
       "4  Vintner's Reserve Wild Child Block      87   65.0             Oregon   \n",
       "\n",
       "              region_1           region_2         taster_name  \\\n",
       "0                 Etna                NaN       Kerin O’Keefe   \n",
       "1                  NaN                NaN          Roger Voss   \n",
       "2    Willamette Valley  Willamette Valley        Paul Gregutt   \n",
       "3  Lake Michigan Shore                NaN  Alexander Peartree   \n",
       "4    Willamette Valley  Willamette Valley        Paul Gregutt   \n",
       "\n",
       "  taster_twitter_handle                                              title  \\\n",
       "0          @kerinokeefe                  Nicosia 2013 Vulkà Bianco  (Etna)   \n",
       "1            @vossroger      Quinta dos Avidagos 2011 Avidagos Red (Douro)   \n",
       "2           @paulgwine       Rainstorm 2013 Pinot Gris (Willamette Valley)   \n",
       "3                   NaN  St. Julian 2013 Reserve Late Harvest Riesling ...   \n",
       "4           @paulgwine   Sweet Cheeks 2012 Vintner's Reserve Wild Child...   \n",
       "\n",
       "          variety               winery  \n",
       "0     White Blend              Nicosia  \n",
       "1  Portuguese Red  Quinta dos Avidagos  \n",
       "2      Pinot Gris            Rainstorm  \n",
       "3        Riesling           St. Julian  \n",
       "4      Pinot Noir         Sweet Cheeks  "
      ]
     },
     "execution_count": 3,
     "metadata": {},
     "output_type": "execute_result"
    }
   ],
   "source": [
    "data_df.head()"
   ]
  },
  {
   "cell_type": "code",
   "execution_count": 4,
   "metadata": {},
   "outputs": [
    {
     "data": {
      "text/plain": [
       "country                   object\n",
       "description               object\n",
       "designation               object\n",
       "points                     int64\n",
       "price                    float64\n",
       "province                  object\n",
       "region_1                  object\n",
       "region_2                  object\n",
       "taster_name               object\n",
       "taster_twitter_handle     object\n",
       "title                     object\n",
       "variety                   object\n",
       "winery                    object\n",
       "dtype: object"
      ]
     },
     "execution_count": 4,
     "metadata": {},
     "output_type": "execute_result"
    }
   ],
   "source": [
    "data_df.dtypes"
   ]
  },
  {
   "cell_type": "code",
   "execution_count": 5,
   "metadata": {},
   "outputs": [
    {
     "data": {
      "text/plain": [
       "(129971, 13)"
      ]
     },
     "execution_count": 5,
     "metadata": {},
     "output_type": "execute_result"
    }
   ],
   "source": [
    "data_df.shape"
   ]
  },
  {
   "cell_type": "code",
   "execution_count": 6,
   "metadata": {
    "scrolled": false
   },
   "outputs": [
    {
     "data": {
      "text/plain": [
       "US                        54504\n",
       "France                    22093\n",
       "Italy                     19540\n",
       "Spain                      6645\n",
       "Portugal                   5691\n",
       "Chile                      4472\n",
       "Argentina                  3800\n",
       "Austria                    3345\n",
       "Australia                  2329\n",
       "Germany                    2165\n",
       "New Zealand                1419\n",
       "South Africa               1401\n",
       "Israel                      505\n",
       "Greece                      466\n",
       "Canada                      257\n",
       "Hungary                     146\n",
       "Bulgaria                    141\n",
       "Romania                     120\n",
       "Uruguay                     109\n",
       "Turkey                       90\n",
       "Slovenia                     87\n",
       "Georgia                      86\n",
       "England                      74\n",
       "Croatia                      73\n",
       "Mexico                       70\n",
       "Moldova                      59\n",
       "Brazil                       52\n",
       "Lebanon                      35\n",
       "Morocco                      28\n",
       "Peru                         16\n",
       "Ukraine                      14\n",
       "Serbia                       12\n",
       "Macedonia                    12\n",
       "Czech Republic               12\n",
       "Cyprus                       11\n",
       "India                         9\n",
       "Switzerland                   7\n",
       "Luxembourg                    6\n",
       "Bosnia and Herzegovina        2\n",
       "Armenia                       2\n",
       "Egypt                         1\n",
       "Slovakia                      1\n",
       "China                         1\n",
       "Name: country, dtype: int64"
      ]
     },
     "execution_count": 6,
     "metadata": {},
     "output_type": "execute_result"
    }
   ],
   "source": [
    "data_df['country'].value_counts()"
   ]
  },
  {
   "cell_type": "code",
   "execution_count": 7,
   "metadata": {},
   "outputs": [
    {
     "data": {
      "text/plain": [
       "Reserve                                2009\n",
       "Estate                                 1322\n",
       "Reserva                                1259\n",
       "Riserva                                 698\n",
       "Estate Grown                            621\n",
       "Brut                                    513\n",
       "Dry                                     413\n",
       "Barrel sample                           375\n",
       "Crianza                                 343\n",
       "Estate Bottled                          342\n",
       "Vieilles Vignes                         308\n",
       "Brut Rosé                               276\n",
       "Gran Reserva                            261\n",
       "Barrel Sample                           252\n",
       "Tradition                               238\n",
       "Old Vine                                221\n",
       "Extra Dry                               204\n",
       "Rosé of                                 172\n",
       "Rosé                                    166\n",
       "Réserve                                 153\n",
       "Single Vineyard                         131\n",
       "Vintage                                 128\n",
       "Estate Reserve                          125\n",
       "Bien Nacido Vineyard                    120\n",
       "Late Harvest                            112\n",
       "Classic                                 111\n",
       "Unoaked                                 110\n",
       "Barrel Select                           106\n",
       "Late Bottled Vintage                     99\n",
       "Blanc de Blancs Brut                     96\n",
       "                                       ... \n",
       "Tantrum                                   1\n",
       "Paso Ranches                              1\n",
       "Perdaudin                                 1\n",
       "Tenuta della Ioria Superiore              1\n",
       "Coste Mancini                             1\n",
       "Sentience Estate Grown                    1\n",
       "Casteller Kugelspiel Eiswein              1\n",
       "Segondine Haut Lieu                       1\n",
       "Ca' Coato                                 1\n",
       "Diane's Reserve                           1\n",
       "Duemiladieci                              1\n",
       "Gran Corte Single Vineyard                1\n",
       "Black Pearl Vineyard                      1\n",
       "Sinedie                                   1\n",
       "Il Tascante                               1\n",
       "Claudia's                                 1\n",
       "Scharzhofberger Trocken Grosse Lage       1\n",
       "Rosé Brut Nature                          1\n",
       "Si Mon Père Savait...                     1\n",
       "Windrow Vineyards Windrow                 1\n",
       "Steel fermented                           1\n",
       "Reserve Melange                           1\n",
       "Edythe Mae Vineyard                       1\n",
       "Clonal Select                             1\n",
       "FORTIS                                    1\n",
       "Aipierti                                  1\n",
       "Kirchweg Smaragd                          1\n",
       "La Isla Gran Reserva                      1\n",
       "Wehlener Klosterberg Kabinett             1\n",
       "Stiletto                                  1\n",
       "Name: designation, Length: 37979, dtype: int64"
      ]
     },
     "execution_count": 7,
     "metadata": {},
     "output_type": "execute_result"
    }
   ],
   "source": [
    "data_df['designation'].value_counts()"
   ]
  },
  {
   "cell_type": "code",
   "execution_count": 8,
   "metadata": {},
   "outputs": [
    {
     "data": {
      "text/plain": [
       "California                   36247\n",
       "Washington                    8639\n",
       "Bordeaux                      5941\n",
       "Tuscany                       5897\n",
       "Oregon                        5373\n",
       "Burgundy                      3980\n",
       "Northern Spain                3851\n",
       "Piedmont                      3729\n",
       "Mendoza Province              3264\n",
       "Veneto                        2716\n",
       "New York                      2688\n",
       "Alsace                        2440\n",
       "Northeastern Italy            2138\n",
       "Loire Valley                  1856\n",
       "Sicily & Sardinia             1797\n",
       "Champagne                     1613\n",
       "Southwest France              1503\n",
       "Southern Italy                1349\n",
       "South Australia               1349\n",
       "Provence                      1346\n",
       "Douro                         1281\n",
       "Central Italy                 1233\n",
       "Catalonia                     1164\n",
       "Rhône Valley                  1081\n",
       "Beaujolais                    1044\n",
       "Mosel                         1039\n",
       "Alentejano                     937\n",
       "Colchagua Valley               830\n",
       "Marlborough                    798\n",
       "Virginia                       777\n",
       "                             ...  \n",
       "Casablanca-Curicó Valley         1\n",
       "Gladstone                        1\n",
       "Vlootenburg                      1\n",
       "Lutzville Valley                 1\n",
       "Beotia                           1\n",
       "Lemesos                          1\n",
       "Muzla                            1\n",
       "Ticino                           1\n",
       "Paardeberg                       1\n",
       "Pocerina                         1\n",
       "Canada Other                     1\n",
       "Krk                              1\n",
       "Kathikas                         1\n",
       "Krania Olympus                   1\n",
       "Hawaii                           1\n",
       "Piekenierskloof                  1\n",
       "Coelemu                          1\n",
       "Imathia                          1\n",
       "Arcadia                          1\n",
       "Neuchâtel                        1\n",
       "Ceres Plateau                    1\n",
       "Dolenjska                        1\n",
       "Sterea Ellada                    1\n",
       "Dealurile Hușilor                1\n",
       "Cape Agulhas                     1\n",
       "Egypt                            1\n",
       "Monemvasia                       1\n",
       "Markopoulo                       1\n",
       "Middle and South Dalmatia        1\n",
       "Messinia                         1\n",
       "Name: province, Length: 425, dtype: int64"
      ]
     },
     "execution_count": 8,
     "metadata": {},
     "output_type": "execute_result"
    }
   ],
   "source": [
    "data_df['province'].value_counts()"
   ]
  },
  {
   "cell_type": "code",
   "execution_count": 9,
   "metadata": {},
   "outputs": [
    {
     "data": {
      "text/plain": [
       "Napa Valley                                 4480\n",
       "Columbia Valley (WA)                        4124\n",
       "Russian River Valley                        3091\n",
       "California                                  2629\n",
       "Paso Robles                                 2350\n",
       "Willamette Valley                           2301\n",
       "Mendoza                                     2301\n",
       "Alsace                                      2163\n",
       "Champagne                                   1613\n",
       "Barolo                                      1599\n",
       "Finger Lakes                                1565\n",
       "Sonoma Coast                                1474\n",
       "Brunello di Montalcino                      1470\n",
       "Rioja                                       1469\n",
       "Sonoma County                               1246\n",
       "Toscana                                     1197\n",
       "Walla Walla Valley (WA)                     1066\n",
       "Chianti Classico                            1062\n",
       "Santa Barbara County                        1000\n",
       "Carneros                                     999\n",
       "Yakima Valley                                997\n",
       "Sta. Rita Hills                              975\n",
       "Dry Creek Valley                             939\n",
       "Sicilia                                      925\n",
       "Côtes de Provence                            859\n",
       "Santa Ynez Valley                            812\n",
       "Santa Lucia Highlands                        806\n",
       "Lodi                                         803\n",
       "Barbaresco                                   794\n",
       "Alexander Valley                             784\n",
       "                                            ... \n",
       "Southern Flinders Ranges                       1\n",
       "Gippsland                                      1\n",
       "Murray-Darling                                 1\n",
       "Catalanesca del Monte Somma                    1\n",
       "Geographe                                      1\n",
       "Côtes du Roussillon Villages Caramany          1\n",
       "Altos de Mendoza                               1\n",
       "Falanghina del Molise                          1\n",
       "Mâcon-Mancey                                   1\n",
       "Côtes de Montravel                             1\n",
       "Vin de Pays de la Haute Vallée du Gassac       1\n",
       "Kentucky                                       1\n",
       "Vino de la Tierra Contraviesa Alpujarra        1\n",
       "Clairette de Die                               1\n",
       "Burgundy                                       1\n",
       "Massachusetts                                  1\n",
       "Vin de Pays de France                          1\n",
       "Primitivo del Tarantino                        1\n",
       "Custoza Superiore                              1\n",
       "Brindisi                                       1\n",
       "Cabernet de Saumur                             1\n",
       "Lake-Sonoma-Napa                               1\n",
       "Todi                                           1\n",
       "Napa-Monterey-Mendocino                        1\n",
       "Paestum                                        1\n",
       "Sonoma-Santa Barbara-Mendocino                 1\n",
       "Ohio                                           1\n",
       "Sonoma-Napa-Mendocino                          1\n",
       "Colline Teramane                               1\n",
       "Del Veneto                                     1\n",
       "Name: region_1, Length: 1229, dtype: int64"
      ]
     },
     "execution_count": 9,
     "metadata": {},
     "output_type": "execute_result"
    }
   ],
   "source": [
    "data_df['region_1'].value_counts()"
   ]
  },
  {
   "cell_type": "code",
   "execution_count": 10,
   "metadata": {},
   "outputs": [
    {
     "data": {
      "text/plain": [
       "Central Coast        11065\n",
       "Sonoma                9028\n",
       "Columbia Valley       8103\n",
       "Napa                  6814\n",
       "Willamette Valley     3423\n",
       "California Other      2663\n",
       "Finger Lakes          1777\n",
       "Sierra Foothills      1462\n",
       "Napa-Sonoma           1169\n",
       "Central Valley        1062\n",
       "Southern Oregon        917\n",
       "Oregon Other           727\n",
       "Long Island            680\n",
       "North Coast            584\n",
       "Washington Other       534\n",
       "South Coast            272\n",
       "New York Other         231\n",
       "Name: region_2, dtype: int64"
      ]
     },
     "execution_count": 10,
     "metadata": {},
     "output_type": "execute_result"
    }
   ],
   "source": [
    "data_df['region_2'].value_counts()"
   ]
  },
  {
   "cell_type": "code",
   "execution_count": 11,
   "metadata": {},
   "outputs": [
    {
     "data": {
      "text/plain": [
       "Roger Voss            25514\n",
       "Michael Schachner     15134\n",
       "Kerin O’Keefe         10776\n",
       "Virginie Boone         9537\n",
       "Paul Gregutt           9532\n",
       "Matt Kettmann          6332\n",
       "Joe Czerwinski         5147\n",
       "Sean P. Sullivan       4966\n",
       "Anna Lee C. Iijima     4415\n",
       "Jim Gordon             4177\n",
       "Anne Krebiehl MW       3685\n",
       "Lauren Buzzeo          1835\n",
       "Susan Kostrzewa        1085\n",
       "Mike DeSimone           514\n",
       "Jeff Jenssen            491\n",
       "Alexander Peartree      415\n",
       "Carrie Dykes            139\n",
       "Fiona Adams              27\n",
       "Christina Pickard         6\n",
       "Name: taster_name, dtype: int64"
      ]
     },
     "execution_count": 11,
     "metadata": {},
     "output_type": "execute_result"
    }
   ],
   "source": [
    "data_df['taster_name'].value_counts()"
   ]
  },
  {
   "cell_type": "code",
   "execution_count": 12,
   "metadata": {},
   "outputs": [
    {
     "data": {
      "text/plain": [
       "@vossroger          25514\n",
       "@wineschach         15134\n",
       "@kerinokeefe        10776\n",
       "@vboone              9537\n",
       "@paulgwine           9532\n",
       "@mattkettmann        6332\n",
       "@JoeCz               5147\n",
       "@wawinereport        4966\n",
       "@gordone_cellars     4177\n",
       "@AnneInVino          3685\n",
       "@laurbuzz            1835\n",
       "@suskostrzewa        1085\n",
       "@worldwineguys       1005\n",
       "@bkfiona               27\n",
       "@winewchristina         6\n",
       "Name: taster_twitter_handle, dtype: int64"
      ]
     },
     "execution_count": 12,
     "metadata": {},
     "output_type": "execute_result"
    }
   ],
   "source": [
    "data_df['taster_twitter_handle'].value_counts()"
   ]
  },
  {
   "cell_type": "code",
   "execution_count": 13,
   "metadata": {
    "scrolled": false
   },
   "outputs": [
    {
     "data": {
      "text/plain": [
       "Pinot Noir                    13272\n",
       "Chardonnay                    11753\n",
       "Cabernet Sauvignon             9472\n",
       "Red Blend                      8946\n",
       "Bordeaux-style Red Blend       6915\n",
       "Riesling                       5189\n",
       "Sauvignon Blanc                4967\n",
       "Syrah                          4142\n",
       "Rosé                           3564\n",
       "Merlot                         3102\n",
       "Nebbiolo                       2804\n",
       "Zinfandel                      2714\n",
       "Sangiovese                     2707\n",
       "Malbec                         2652\n",
       "Portuguese Red                 2466\n",
       "White Blend                    2360\n",
       "Sparkling Blend                2153\n",
       "Tempranillo                    1810\n",
       "Rhône-style Red Blend          1471\n",
       "Pinot Gris                     1455\n",
       "Champagne Blend                1396\n",
       "Cabernet Franc                 1353\n",
       "Grüner Veltliner               1345\n",
       "Portuguese White               1159\n",
       "Bordeaux-style White Blend     1066\n",
       "Pinot Grigio                   1052\n",
       "Gamay                          1025\n",
       "Gewürztraminer                 1012\n",
       "Viognier                        996\n",
       "Shiraz                          836\n",
       "                              ...  \n",
       "Cabernet Sauvignon-Barbera        1\n",
       "Frankovka                         1\n",
       "Chardonnay-Pinot Gris             1\n",
       "Syrah-Malbec                      1\n",
       "Folle Blanche                     1\n",
       "Malbec-Carménère                  1\n",
       "Vital                             1\n",
       "Tempranillo-Malbec                1\n",
       "Ojaleshi                          1\n",
       "Caprettone                        1\n",
       "Grenache Gris                     1\n",
       "Francisa                          1\n",
       "Biancale                          1\n",
       "Dafni                             1\n",
       "Merseguera-Sauvignon Blanc        1\n",
       "Blatina                           1\n",
       "Thrapsathiri                      1\n",
       "Colorino                          1\n",
       "Syrah-Grenache-Viognier           1\n",
       "Pinotage-Merlot                   1\n",
       "Teroldego Rotaliano               1\n",
       "Premsal                           1\n",
       "Merlot-Argaman                    1\n",
       "Merlot-Grenache                   1\n",
       "Žilavka                           1\n",
       "Otskhanuri Sapere                 1\n",
       "Pinot Gris-Gewürztraminer         1\n",
       "Piquepoul Blanc                   1\n",
       "Biancolella                       1\n",
       "Sauvignonasse                     1\n",
       "Name: variety, Length: 707, dtype: int64"
      ]
     },
     "execution_count": 13,
     "metadata": {},
     "output_type": "execute_result"
    }
   ],
   "source": [
    "data_df['variety'].value_counts()"
   ]
  },
  {
   "cell_type": "code",
   "execution_count": 14,
   "metadata": {},
   "outputs": [
    {
     "data": {
      "text/plain": [
       "Wines & Winemakers            222\n",
       "Testarossa                    218\n",
       "DFJ Vinhos                    215\n",
       "Williams Selyem               211\n",
       "Louis Latour                  199\n",
       "Georges Duboeuf               196\n",
       "Chateau Ste. Michelle         194\n",
       "Concha y Toro                 164\n",
       "Columbia Crest                159\n",
       "Kendall-Jackson               130\n",
       "Siduri                        126\n",
       "Gary Farrell                  125\n",
       "Lynmar                        118\n",
       "Montes                        117\n",
       "Albert Bichot                 117\n",
       "Trapiche                      113\n",
       "Casa Santos Lima              113\n",
       "Jean-Luc and Paul Aegerter    113\n",
       "Undurraga                     113\n",
       "Robert Mondavi                112\n",
       "Santa Ema                     112\n",
       "Chanson Père et Fils          109\n",
       "Fess Parker                   108\n",
       "V. Sattui                     107\n",
       "Iron Horse                    106\n",
       "Foxen                         105\n",
       "Louis Jadot                   104\n",
       "Chehalem                      102\n",
       "Maryhill                      102\n",
       "Feudi di San Gregorio         102\n",
       "                             ... \n",
       "Starvedog Lane                  1\n",
       "Azienda Agricola Milazzo        1\n",
       "Château de Trinquevedel         1\n",
       "Chapelle d'Ausone               1\n",
       "Mt. Jagged                      1\n",
       "Fog Hill                        1\n",
       "Château Haut Claribes           1\n",
       "Hensley                         1\n",
       "Caviro                          1\n",
       "Serenissima                     1\n",
       "Punga Cove                      1\n",
       "SOLID                           1\n",
       "Château la Fortune              1\n",
       "Tayson Pierce                   1\n",
       "Laurentide                      1\n",
       "Genio Español                   1\n",
       "Castello Il Palagio             1\n",
       "Greenhough                      1\n",
       "Silverthorn                     1\n",
       "Biasotto                        1\n",
       "Homage                          1\n",
       "H Mynors                        1\n",
       "Garmón                          1\n",
       "Weinstock Cellars               1\n",
       "VENN                            1\n",
       "Aquilina                        1\n",
       "Ground Boots                    1\n",
       "Harlaftis                       1\n",
       "Ophalum                         1\n",
       "Lovo                            1\n",
       "Name: winery, Length: 16757, dtype: int64"
      ]
     },
     "execution_count": 14,
     "metadata": {},
     "output_type": "execute_result"
    }
   ],
   "source": [
    "data_df['winery'].value_counts()"
   ]
  },
  {
   "cell_type": "code",
   "execution_count": 15,
   "metadata": {},
   "outputs": [
    {
     "data": {
      "text/html": [
       "<div>\n",
       "<style scoped>\n",
       "    .dataframe tbody tr th:only-of-type {\n",
       "        vertical-align: middle;\n",
       "    }\n",
       "\n",
       "    .dataframe tbody tr th {\n",
       "        vertical-align: top;\n",
       "    }\n",
       "\n",
       "    .dataframe thead th {\n",
       "        text-align: right;\n",
       "    }\n",
       "</style>\n",
       "<table border=\"1\" class=\"dataframe\">\n",
       "  <thead>\n",
       "    <tr style=\"text-align: right;\">\n",
       "      <th></th>\n",
       "      <th>points</th>\n",
       "      <th>price</th>\n",
       "    </tr>\n",
       "  </thead>\n",
       "  <tbody>\n",
       "    <tr>\n",
       "      <th>count</th>\n",
       "      <td>129971.000000</td>\n",
       "      <td>120975.000000</td>\n",
       "    </tr>\n",
       "    <tr>\n",
       "      <th>mean</th>\n",
       "      <td>88.447138</td>\n",
       "      <td>35.363389</td>\n",
       "    </tr>\n",
       "    <tr>\n",
       "      <th>std</th>\n",
       "      <td>3.039730</td>\n",
       "      <td>41.022218</td>\n",
       "    </tr>\n",
       "    <tr>\n",
       "      <th>min</th>\n",
       "      <td>80.000000</td>\n",
       "      <td>4.000000</td>\n",
       "    </tr>\n",
       "    <tr>\n",
       "      <th>25%</th>\n",
       "      <td>86.000000</td>\n",
       "      <td>17.000000</td>\n",
       "    </tr>\n",
       "    <tr>\n",
       "      <th>50%</th>\n",
       "      <td>88.000000</td>\n",
       "      <td>25.000000</td>\n",
       "    </tr>\n",
       "    <tr>\n",
       "      <th>75%</th>\n",
       "      <td>91.000000</td>\n",
       "      <td>42.000000</td>\n",
       "    </tr>\n",
       "    <tr>\n",
       "      <th>max</th>\n",
       "      <td>100.000000</td>\n",
       "      <td>3300.000000</td>\n",
       "    </tr>\n",
       "  </tbody>\n",
       "</table>\n",
       "</div>"
      ],
      "text/plain": [
       "              points          price\n",
       "count  129971.000000  120975.000000\n",
       "mean       88.447138      35.363389\n",
       "std         3.039730      41.022218\n",
       "min        80.000000       4.000000\n",
       "25%        86.000000      17.000000\n",
       "50%        88.000000      25.000000\n",
       "75%        91.000000      42.000000\n",
       "max       100.000000    3300.000000"
      ]
     },
     "execution_count": 15,
     "metadata": {},
     "output_type": "execute_result"
    }
   ],
   "source": [
    "number_data = ['points','price']\n",
    "data_df[number_data].describe()"
   ]
  },
  {
   "cell_type": "markdown",
   "metadata": {},
   "source": [
    "## 数据可视化"
   ]
  },
  {
   "cell_type": "code",
   "execution_count": 16,
   "metadata": {},
   "outputs": [
    {
     "data": {
      "text/plain": [
       "<matplotlib.axes._subplots.AxesSubplot at 0x22014ae8dd8>"
      ]
     },
     "execution_count": 16,
     "metadata": {},
     "output_type": "execute_result"
    }
   ],
   "source": [
    "data_df['points'].hist()"
   ]
  },
  {
   "cell_type": "code",
   "execution_count": 17,
   "metadata": {},
   "outputs": [
    {
     "data": {
      "text/plain": [
       "<matplotlib.axes._subplots.AxesSubplot at 0x220152dc588>"
      ]
     },
     "execution_count": 17,
     "metadata": {},
     "output_type": "execute_result"
    },
    {
     "data": {
      "image/png": "[encoded data removed]",
      "text/plain": [
       "<Figure size 432x288 with 1 Axes>"
      ]
     },
     "metadata": {},
     "output_type": "display_data"
    }
   ],
   "source": [
    "data_df['price'].hist()"
   ]
  },
  {
   "cell_type": "code",
   "execution_count": 18,
   "metadata": {},
   "outputs": [],
   "source": [
    "import matplotlib.pyplot as plt\n",
    "import seaborn as sns\n",
    "def plot_feature_distribution(df, features):\n",
    "    i = 0\n",
    "    sns.set_style('whitegrid')\n",
    "    plt.figure()\n",
    "    fig, ax = plt.subplots(1,2,figsize=(18,6))\n",
    "\n",
    "    for feature in features:\n",
    "        i += 1\n",
    "        plt.subplot(1,2,i)\n",
    "        sns.kdeplot(df[feature], bw=0.5,label=feature)\n",
    "        plt.xlabel(feature, fontsize=9)\n",
    "        locs, labels = plt.xticks()\n",
    "        plt.tick_params(axis='x', which='major', labelsize=6, pad=-6)\n",
    "        plt.tick_params(axis='y', which='major', labelsize=6)\n",
    "    plt.show();"
   ]
  },
  {
   "cell_type": "code",
   "execution_count": 19,
   "metadata": {},
   "outputs": [
    {
     "name": "stderr",
     "output_type": "stream",
     "text": [
      "C:\\ProgramData\\Anaconda3\\lib\\site-packages\\statsmodels\\nonparametric\\kde.py:448: RuntimeWarning: invalid value encountered in greater\n",
      "  X = X[np.logical_and(X > clip[0], X < clip[1])] # won't work for two columns.\n",
      "C:\\ProgramData\\Anaconda3\\lib\\site-packages\\statsmodels\\nonparametric\\kde.py:448: RuntimeWarning: invalid value encountered in less\n",
      "  X = X[np.logical_and(X > clip[0], X < clip[1])] # won't work for two columns.\n"
     ]
    },
    {
     "data": {
      "text/plain": [
       "<Figure size 432x288 with 0 Axes>"
      ]
     },
     "metadata": {},
     "output_type": "display_data"
    },
    {
     "data": {
      "image/png": "[encoded data removed]",
      "text/plain": [
       "<Figure size 1296x432 with 2 Axes>"
      ]
     },
     "metadata": {},
     "output_type": "display_data"
    }
   ],
   "source": [
    "features = ['points','price']\n",
    "plot_feature_distribution(data_df, features)"
   ]
  },
  {
   "cell_type": "code",
   "execution_count": 20,
   "metadata": {},
   "outputs": [
    {
     "data": {
      "image/png": "[encoded data removed]",
      "text/plain": [
       "<Figure size 432x288 with 1 Axes>"
      ]
     },
     "metadata": {},
     "output_type": "display_data"
    }
   ],
   "source": [
    "import statsmodels.api as sm\n",
    "import pylab\n",
    "\n",
    "sm.qqplot(data_df['points'], line='s')\n",
    "pylab.show()"
   ]
  },
  {
   "cell_type": "markdown",
   "metadata": {},
   "source": [
    "### price不满足正态分布"
   ]
  },
  {
   "cell_type": "code",
   "execution_count": 21,
   "metadata": {},
   "outputs": [
    {
     "data": {
      "image/png": "[encoded data removed]",
      "text/plain": [
       "<Figure size 432x288 with 1 Axes>"
      ]
     },
     "metadata": {},
     "output_type": "display_data"
    }
   ],
   "source": [
    "sm.qqplot(data_df['price'], line='s')\n",
    "pylab.show()"
   ]
  },
  {
   "cell_type": "code",
   "execution_count": 22,
   "metadata": {},
   "outputs": [
    {
     "data": {
      "image/png": "[encoded data removed]",
      "text/plain": [
       "<Figure size 432x288 with 1 Axes>"
      ]
     },
     "metadata": {},
     "output_type": "display_data"
    }
   ],
   "source": [
    "import matplotlib.pyplot as plt\n",
    "\n",
    "data_df['points'].plot(kind='box', notch=True, grid=True)\n",
    "plt.show()"
   ]
  },
  {
   "cell_type": "markdown",
   "metadata": {},
   "source": [
    "### price存在部分数据值较大"
   ]
  },
  {
   "cell_type": "code",
   "execution_count": 23,
   "metadata": {},
   "outputs": [
    {
     "data": {
      "image/png": "[encoded data removed]",
      "text/plain": [
       "<Figure size 432x288 with 1 Axes>"
      ]
     },
     "metadata": {},
     "output_type": "display_data"
    }
   ],
   "source": [
    "data_df['price'].plot(kind='box', notch=True, grid=True)\n",
    "plt.show()"
   ]
  },
  {
   "cell_type": "markdown",
   "metadata": {},
   "source": [
    "## 数据缺失处理"
   ]
  },
  {
   "cell_type": "code",
   "execution_count": 24,
   "metadata": {},
   "outputs": [],
   "source": [
    "def missing_data(data):\n",
    "    total = data.isnull().sum()\n",
    "    percent = (data.isnull().sum()/data.isnull().count()*100)\n",
    "    tt = pd.concat([total, percent], axis=1, keys=['Total', 'Percent'])\n",
    "    types = []\n",
    "    for col in data.columns:\n",
    "        dtype = str(data[col].dtype)\n",
    "        types.append(dtype)\n",
    "    tt['Types'] = types\n",
    "    return(np.transpose(tt))"
   ]
  },
  {
   "cell_type": "code",
   "execution_count": 25,
   "metadata": {},
   "outputs": [
    {
     "name": "stdout",
     "output_type": "stream",
     "text": [
      "Wall time: 475 ms\n"
     ]
    },
    {
     "data": {
      "text/html": [
       "<div>\n",
       "<style scoped>\n",
       "    .dataframe tbody tr th:only-of-type {\n",
       "        vertical-align: middle;\n",
       "    }\n",
       "\n",
       "    .dataframe tbody tr th {\n",
       "        vertical-align: top;\n",
       "    }\n",
       "\n",
       "    .dataframe thead th {\n",
       "        text-align: right;\n",
       "    }\n",
       "</style>\n",
       "<table border=\"1\" class=\"dataframe\">\n",
       "  <thead>\n",
       "    <tr style=\"text-align: right;\">\n",
       "      <th></th>\n",
       "      <th>country</th>\n",
       "      <th>description</th>\n",
       "      <th>designation</th>\n",
       "      <th>points</th>\n",
       "      <th>price</th>\n",
       "      <th>province</th>\n",
       "      <th>region_1</th>\n",
       "      <th>region_2</th>\n",
       "      <th>taster_name</th>\n",
       "      <th>taster_twitter_handle</th>\n",
       "      <th>title</th>\n",
       "      <th>variety</th>\n",
       "      <th>winery</th>\n",
       "    </tr>\n",
       "  </thead>\n",
       "  <tbody>\n",
       "    <tr>\n",
       "      <th>Total</th>\n",
       "      <td>63</td>\n",
       "      <td>0</td>\n",
       "      <td>37465</td>\n",
       "      <td>0</td>\n",
       "      <td>8996</td>\n",
       "      <td>63</td>\n",
       "      <td>21247</td>\n",
       "      <td>79460</td>\n",
       "      <td>26244</td>\n",
       "      <td>31213</td>\n",
       "      <td>0</td>\n",
       "      <td>1</td>\n",
       "      <td>0</td>\n",
       "    </tr>\n",
       "    <tr>\n",
       "      <th>Percent</th>\n",
       "      <td>0.0484724</td>\n",
       "      <td>0</td>\n",
       "      <td>28.8257</td>\n",
       "      <td>0</td>\n",
       "      <td>6.92154</td>\n",
       "      <td>0.0484724</td>\n",
       "      <td>16.3475</td>\n",
       "      <td>61.1367</td>\n",
       "      <td>20.1922</td>\n",
       "      <td>24.0154</td>\n",
       "      <td>0</td>\n",
       "      <td>0.000769402</td>\n",
       "      <td>0</td>\n",
       "    </tr>\n",
       "    <tr>\n",
       "      <th>Types</th>\n",
       "      <td>object</td>\n",
       "      <td>object</td>\n",
       "      <td>object</td>\n",
       "      <td>int64</td>\n",
       "      <td>float64</td>\n",
       "      <td>object</td>\n",
       "      <td>object</td>\n",
       "      <td>object</td>\n",
       "      <td>object</td>\n",
       "      <td>object</td>\n",
       "      <td>object</td>\n",
       "      <td>object</td>\n",
       "      <td>object</td>\n",
       "    </tr>\n",
       "  </tbody>\n",
       "</table>\n",
       "</div>"
      ],
      "text/plain": [
       "           country description designation points    price   province  \\\n",
       "Total           63           0       37465      0     8996         63   \n",
       "Percent  0.0484724           0     28.8257      0  6.92154  0.0484724   \n",
       "Types       object      object      object  int64  float64     object   \n",
       "\n",
       "        region_1 region_2 taster_name taster_twitter_handle   title  \\\n",
       "Total      21247    79460       26244                 31213       0   \n",
       "Percent  16.3475  61.1367     20.1922               24.0154       0   \n",
       "Types     object   object      object                object  object   \n",
       "\n",
       "             variety  winery  \n",
       "Total              1       0  \n",
       "Percent  0.000769402       0  \n",
       "Types         object  object  "
      ]
     },
     "execution_count": 25,
     "metadata": {},
     "output_type": "execute_result"
    }
   ],
   "source": [
    "%%time\n",
    "missing_data(data_df)"
   ]
  },
  {
   "cell_type": "markdown",
   "metadata": {},
   "source": [
    "### 直接删除含缺失值数据"
   ]
  },
  {
   "cell_type": "code",
   "execution_count": 27,
   "metadata": {
    "scrolled": true
   },
   "outputs": [],
   "source": [
    "del_df = data_df.dropna()"
   ]
  },
  {
   "cell_type": "code",
   "execution_count": 28,
   "metadata": {},
   "outputs": [
    {
     "data": {
      "text/plain": [
       "(22387, 13)"
      ]
     },
     "execution_count": 28,
     "metadata": {},
     "output_type": "execute_result"
    }
   ],
   "source": [
    "del_df.shape"
   ]
  },
  {
   "cell_type": "code",
   "execution_count": 29,
   "metadata": {
    "scrolled": false
   },
   "outputs": [
    {
     "data": {
      "text/html": [
       "<div>\n",
       "<style scoped>\n",
       "    .dataframe tbody tr th:only-of-type {\n",
       "        vertical-align: middle;\n",
       "    }\n",
       "\n",
       "    .dataframe tbody tr th {\n",
       "        vertical-align: top;\n",
       "    }\n",
       "\n",
       "    .dataframe thead th {\n",
       "        text-align: right;\n",
       "    }\n",
       "</style>\n",
       "<table border=\"1\" class=\"dataframe\">\n",
       "  <thead>\n",
       "    <tr style=\"text-align: right;\">\n",
       "      <th></th>\n",
       "      <th>country</th>\n",
       "      <th>description</th>\n",
       "      <th>designation</th>\n",
       "      <th>points</th>\n",
       "      <th>price</th>\n",
       "      <th>province</th>\n",
       "      <th>region_1</th>\n",
       "      <th>region_2</th>\n",
       "      <th>taster_name</th>\n",
       "      <th>taster_twitter_handle</th>\n",
       "      <th>title</th>\n",
       "      <th>variety</th>\n",
       "      <th>winery</th>\n",
       "    </tr>\n",
       "  </thead>\n",
       "  <tbody>\n",
       "    <tr>\n",
       "      <th>4</th>\n",
       "      <td>US</td>\n",
       "      <td>Much like the regular bottling from 2012, this...</td>\n",
       "      <td>Vintner's Reserve Wild Child Block</td>\n",
       "      <td>87</td>\n",
       "      <td>65.0</td>\n",
       "      <td>Oregon</td>\n",
       "      <td>Willamette Valley</td>\n",
       "      <td>Willamette Valley</td>\n",
       "      <td>Paul Gregutt</td>\n",
       "      <td>@paulgwine</td>\n",
       "      <td>Sweet Cheeks 2012 Vintner's Reserve Wild Child...</td>\n",
       "      <td>Pinot Noir</td>\n",
       "      <td>Sweet Cheeks</td>\n",
       "    </tr>\n",
       "    <tr>\n",
       "      <th>10</th>\n",
       "      <td>US</td>\n",
       "      <td>Soft, supple plum envelopes an oaky structure ...</td>\n",
       "      <td>Mountain Cuvée</td>\n",
       "      <td>87</td>\n",
       "      <td>19.0</td>\n",
       "      <td>California</td>\n",
       "      <td>Napa Valley</td>\n",
       "      <td>Napa</td>\n",
       "      <td>Virginie Boone</td>\n",
       "      <td>@vboone</td>\n",
       "      <td>Kirkland Signature 2011 Mountain Cuvée Caberne...</td>\n",
       "      <td>Cabernet Sauvignon</td>\n",
       "      <td>Kirkland Signature</td>\n",
       "    </tr>\n",
       "    <tr>\n",
       "      <th>23</th>\n",
       "      <td>US</td>\n",
       "      <td>This wine from the Geneseo district offers aro...</td>\n",
       "      <td>Signature Selection</td>\n",
       "      <td>87</td>\n",
       "      <td>22.0</td>\n",
       "      <td>California</td>\n",
       "      <td>Paso Robles</td>\n",
       "      <td>Central Coast</td>\n",
       "      <td>Matt Kettmann</td>\n",
       "      <td>@mattkettmann</td>\n",
       "      <td>Bianchi 2011 Signature Selection Merlot (Paso ...</td>\n",
       "      <td>Merlot</td>\n",
       "      <td>Bianchi</td>\n",
       "    </tr>\n",
       "    <tr>\n",
       "      <th>25</th>\n",
       "      <td>US</td>\n",
       "      <td>Oak and earth intermingle around robust aromas...</td>\n",
       "      <td>King Ridge Vineyard</td>\n",
       "      <td>87</td>\n",
       "      <td>69.0</td>\n",
       "      <td>California</td>\n",
       "      <td>Sonoma Coast</td>\n",
       "      <td>Sonoma</td>\n",
       "      <td>Virginie Boone</td>\n",
       "      <td>@vboone</td>\n",
       "      <td>Castello di Amorosa 2011 King Ridge Vineyard P...</td>\n",
       "      <td>Pinot Noir</td>\n",
       "      <td>Castello di Amorosa</td>\n",
       "    </tr>\n",
       "    <tr>\n",
       "      <th>35</th>\n",
       "      <td>US</td>\n",
       "      <td>As with many of the Erath 2010 vineyard design...</td>\n",
       "      <td>Hyland</td>\n",
       "      <td>86</td>\n",
       "      <td>50.0</td>\n",
       "      <td>Oregon</td>\n",
       "      <td>McMinnville</td>\n",
       "      <td>Willamette Valley</td>\n",
       "      <td>Paul Gregutt</td>\n",
       "      <td>@paulgwine</td>\n",
       "      <td>Erath 2010 Hyland Pinot Noir (McMinnville)</td>\n",
       "      <td>Pinot Noir</td>\n",
       "      <td>Erath</td>\n",
       "    </tr>\n",
       "  </tbody>\n",
       "</table>\n",
       "</div>"
      ],
      "text/plain": [
       "   country                                        description  \\\n",
       "4       US  Much like the regular bottling from 2012, this...   \n",
       "10      US  Soft, supple plum envelopes an oaky structure ...   \n",
       "23      US  This wine from the Geneseo district offers aro...   \n",
       "25      US  Oak and earth intermingle around robust aromas...   \n",
       "35      US  As with many of the Erath 2010 vineyard design...   \n",
       "\n",
       "                           designation  points  price    province  \\\n",
       "4   Vintner's Reserve Wild Child Block      87   65.0      Oregon   \n",
       "10                      Mountain Cuvée      87   19.0  California   \n",
       "23                 Signature Selection      87   22.0  California   \n",
       "25                 King Ridge Vineyard      87   69.0  California   \n",
       "35                              Hyland      86   50.0      Oregon   \n",
       "\n",
       "             region_1           region_2     taster_name  \\\n",
       "4   Willamette Valley  Willamette Valley    Paul Gregutt   \n",
       "10        Napa Valley               Napa  Virginie Boone   \n",
       "23        Paso Robles      Central Coast   Matt Kettmann   \n",
       "25       Sonoma Coast             Sonoma  Virginie Boone   \n",
       "35        McMinnville  Willamette Valley    Paul Gregutt   \n",
       "\n",
       "   taster_twitter_handle                                              title  \\\n",
       "4            @paulgwine   Sweet Cheeks 2012 Vintner's Reserve Wild Child...   \n",
       "10               @vboone  Kirkland Signature 2011 Mountain Cuvée Caberne...   \n",
       "23         @mattkettmann  Bianchi 2011 Signature Selection Merlot (Paso ...   \n",
       "25               @vboone  Castello di Amorosa 2011 King Ridge Vineyard P...   \n",
       "35           @paulgwine          Erath 2010 Hyland Pinot Noir (McMinnville)   \n",
       "\n",
       "               variety               winery  \n",
       "4           Pinot Noir         Sweet Cheeks  \n",
       "10  Cabernet Sauvignon   Kirkland Signature  \n",
       "23              Merlot              Bianchi  \n",
       "25          Pinot Noir  Castello di Amorosa  \n",
       "35          Pinot Noir                Erath  "
      ]
     },
     "execution_count": 29,
     "metadata": {},
     "output_type": "execute_result"
    }
   ],
   "source": [
    "del_df.head()"
   ]
  },
  {
   "cell_type": "markdown",
   "metadata": {},
   "source": [
    "### 用最高频率值填充"
   ]
  },
  {
   "cell_type": "code",
   "execution_count": 30,
   "metadata": {},
   "outputs": [
    {
     "name": "stdout",
     "output_type": "stream",
     "text": [
      "US <class 'str'>\n",
      "Reserve <class 'str'>\n",
      "20.0 <class 'float'>\n",
      "California <class 'str'>\n",
      "Napa Valley <class 'str'>\n",
      "Central Coast <class 'str'>\n",
      "Roger Voss <class 'str'>\n",
      "@vossroger <class 'str'>\n",
      "Pinot Noir <class 'str'>\n"
     ]
    },
    {
     "data": {
      "text/html": [
       "<div>\n",
       "<style scoped>\n",
       "    .dataframe tbody tr th:only-of-type {\n",
       "        vertical-align: middle;\n",
       "    }\n",
       "\n",
       "    .dataframe tbody tr th {\n",
       "        vertical-align: top;\n",
       "    }\n",
       "\n",
       "    .dataframe thead th {\n",
       "        text-align: right;\n",
       "    }\n",
       "</style>\n",
       "<table border=\"1\" class=\"dataframe\">\n",
       "  <thead>\n",
       "    <tr style=\"text-align: right;\">\n",
       "      <th></th>\n",
       "      <th>country</th>\n",
       "      <th>description</th>\n",
       "      <th>designation</th>\n",
       "      <th>points</th>\n",
       "      <th>price</th>\n",
       "      <th>province</th>\n",
       "      <th>region_1</th>\n",
       "      <th>region_2</th>\n",
       "      <th>taster_name</th>\n",
       "      <th>taster_twitter_handle</th>\n",
       "      <th>title</th>\n",
       "      <th>variety</th>\n",
       "      <th>winery</th>\n",
       "    </tr>\n",
       "  </thead>\n",
       "  <tbody>\n",
       "    <tr>\n",
       "      <th>0</th>\n",
       "      <td>Italy</td>\n",
       "      <td>Aromas include tropical fruit, broom, brimston...</td>\n",
       "      <td>Vulkà Bianco</td>\n",
       "      <td>87</td>\n",
       "      <td>20.0</td>\n",
       "      <td>Sicily &amp; Sardinia</td>\n",
       "      <td>Etna</td>\n",
       "      <td>Central Coast</td>\n",
       "      <td>Kerin O’Keefe</td>\n",
       "      <td>@kerinokeefe</td>\n",
       "      <td>Nicosia 2013 Vulkà Bianco  (Etna)</td>\n",
       "      <td>White Blend</td>\n",
       "      <td>Nicosia</td>\n",
       "    </tr>\n",
       "    <tr>\n",
       "      <th>1</th>\n",
       "      <td>Portugal</td>\n",
       "      <td>This is ripe and fruity, a wine that is smooth...</td>\n",
       "      <td>Avidagos</td>\n",
       "      <td>87</td>\n",
       "      <td>15.0</td>\n",
       "      <td>Douro</td>\n",
       "      <td>Napa Valley</td>\n",
       "      <td>Central Coast</td>\n",
       "      <td>Roger Voss</td>\n",
       "      <td>@vossroger</td>\n",
       "      <td>Quinta dos Avidagos 2011 Avidagos Red (Douro)</td>\n",
       "      <td>Portuguese Red</td>\n",
       "      <td>Quinta dos Avidagos</td>\n",
       "    </tr>\n",
       "    <tr>\n",
       "      <th>2</th>\n",
       "      <td>US</td>\n",
       "      <td>Tart and snappy, the flavors of lime flesh and...</td>\n",
       "      <td>Reserve</td>\n",
       "      <td>87</td>\n",
       "      <td>14.0</td>\n",
       "      <td>Oregon</td>\n",
       "      <td>Willamette Valley</td>\n",
       "      <td>Willamette Valley</td>\n",
       "      <td>Paul Gregutt</td>\n",
       "      <td>@paulgwine</td>\n",
       "      <td>Rainstorm 2013 Pinot Gris (Willamette Valley)</td>\n",
       "      <td>Pinot Gris</td>\n",
       "      <td>Rainstorm</td>\n",
       "    </tr>\n",
       "    <tr>\n",
       "      <th>3</th>\n",
       "      <td>US</td>\n",
       "      <td>Pineapple rind, lemon pith and orange blossom ...</td>\n",
       "      <td>Reserve Late Harvest</td>\n",
       "      <td>87</td>\n",
       "      <td>13.0</td>\n",
       "      <td>Michigan</td>\n",
       "      <td>Lake Michigan Shore</td>\n",
       "      <td>Central Coast</td>\n",
       "      <td>Alexander Peartree</td>\n",
       "      <td>@vossroger</td>\n",
       "      <td>St. Julian 2013 Reserve Late Harvest Riesling ...</td>\n",
       "      <td>Riesling</td>\n",
       "      <td>St. Julian</td>\n",
       "    </tr>\n",
       "    <tr>\n",
       "      <th>4</th>\n",
       "      <td>US</td>\n",
       "      <td>Much like the regular bottling from 2012, this...</td>\n",
       "      <td>Vintner's Reserve Wild Child Block</td>\n",
       "      <td>87</td>\n",
       "      <td>65.0</td>\n",
       "      <td>Oregon</td>\n",
       "      <td>Willamette Valley</td>\n",
       "      <td>Willamette Valley</td>\n",
       "      <td>Paul Gregutt</td>\n",
       "      <td>@paulgwine</td>\n",
       "      <td>Sweet Cheeks 2012 Vintner's Reserve Wild Child...</td>\n",
       "      <td>Pinot Noir</td>\n",
       "      <td>Sweet Cheeks</td>\n",
       "    </tr>\n",
       "  </tbody>\n",
       "</table>\n",
       "</div>"
      ],
      "text/plain": [
       "    country                                        description  \\\n",
       "0     Italy  Aromas include tropical fruit, broom, brimston...   \n",
       "1  Portugal  This is ripe and fruity, a wine that is smooth...   \n",
       "2        US  Tart and snappy, the flavors of lime flesh and...   \n",
       "3        US  Pineapple rind, lemon pith and orange blossom ...   \n",
       "4        US  Much like the regular bottling from 2012, this...   \n",
       "\n",
       "                          designation  points  price           province  \\\n",
       "0                        Vulkà Bianco      87   20.0  Sicily & Sardinia   \n",
       "1                            Avidagos      87   15.0              Douro   \n",
       "2                             Reserve      87   14.0             Oregon   \n",
       "3                Reserve Late Harvest      87   13.0           Michigan   \n",
       "4  Vintner's Reserve Wild Child Block      87   65.0             Oregon   \n",
       "\n",
       "              region_1           region_2         taster_name  \\\n",
       "0                 Etna      Central Coast       Kerin O’Keefe   \n",
       "1          Napa Valley      Central Coast          Roger Voss   \n",
       "2    Willamette Valley  Willamette Valley        Paul Gregutt   \n",
       "3  Lake Michigan Shore      Central Coast  Alexander Peartree   \n",
       "4    Willamette Valley  Willamette Valley        Paul Gregutt   \n",
       "\n",
       "  taster_twitter_handle                                              title  \\\n",
       "0          @kerinokeefe                  Nicosia 2013 Vulkà Bianco  (Etna)   \n",
       "1            @vossroger      Quinta dos Avidagos 2011 Avidagos Red (Douro)   \n",
       "2           @paulgwine       Rainstorm 2013 Pinot Gris (Willamette Valley)   \n",
       "3            @vossroger  St. Julian 2013 Reserve Late Harvest Riesling ...   \n",
       "4           @paulgwine   Sweet Cheeks 2012 Vintner's Reserve Wild Child...   \n",
       "\n",
       "          variety               winery  \n",
       "0     White Blend              Nicosia  \n",
       "1  Portuguese Red  Quinta dos Avidagos  \n",
       "2      Pinot Gris            Rainstorm  \n",
       "3        Riesling           St. Julian  \n",
       "4      Pinot Noir         Sweet Cheeks  "
      ]
     },
     "execution_count": 30,
     "metadata": {},
     "output_type": "execute_result"
    }
   ],
   "source": [
    "from collections import Counter\n",
    "from math import isnan\n",
    "\n",
    "miss_features = ['country','designation','price','province','region_1','region_2','taster_name','taster_twitter_handle','variety']\n",
    "fill_df = data_df\n",
    "\n",
    "for col in miss_features:\n",
    "    word_counts = Counter(fill_df[col])\n",
    "    top = word_counts.most_common(1)[0][0]\n",
    "    if type(top) != str:\n",
    "        if isnan(top):\n",
    "            top = word_counts.most_common(2)[1][0]\n",
    "    print(top, type(top))\n",
    "    temp = fill_df[col].fillna(top)\n",
    "    fill_df[col] = temp\n",
    "fill_df.head()"
   ]
  },
  {
   "cell_type": "code",
   "execution_count": 31,
   "metadata": {},
   "outputs": [
    {
     "data": {
      "text/html": [
       "<div>\n",
       "<style scoped>\n",
       "    .dataframe tbody tr th:only-of-type {\n",
       "        vertical-align: middle;\n",
       "    }\n",
       "\n",
       "    .dataframe tbody tr th {\n",
       "        vertical-align: top;\n",
       "    }\n",
       "\n",
       "    .dataframe thead th {\n",
       "        text-align: right;\n",
       "    }\n",
       "</style>\n",
       "<table border=\"1\" class=\"dataframe\">\n",
       "  <thead>\n",
       "    <tr style=\"text-align: right;\">\n",
       "      <th></th>\n",
       "      <th>country</th>\n",
       "      <th>description</th>\n",
       "      <th>designation</th>\n",
       "      <th>points</th>\n",
       "      <th>price</th>\n",
       "      <th>province</th>\n",
       "      <th>region_1</th>\n",
       "      <th>region_2</th>\n",
       "      <th>taster_name</th>\n",
       "      <th>taster_twitter_handle</th>\n",
       "      <th>title</th>\n",
       "      <th>variety</th>\n",
       "      <th>winery</th>\n",
       "    </tr>\n",
       "  </thead>\n",
       "  <tbody>\n",
       "    <tr>\n",
       "      <th>Total</th>\n",
       "      <td>0</td>\n",
       "      <td>0</td>\n",
       "      <td>0</td>\n",
       "      <td>0</td>\n",
       "      <td>0</td>\n",
       "      <td>0</td>\n",
       "      <td>0</td>\n",
       "      <td>0</td>\n",
       "      <td>0</td>\n",
       "      <td>0</td>\n",
       "      <td>0</td>\n",
       "      <td>0</td>\n",
       "      <td>0</td>\n",
       "    </tr>\n",
       "    <tr>\n",
       "      <th>Percent</th>\n",
       "      <td>0</td>\n",
       "      <td>0</td>\n",
       "      <td>0</td>\n",
       "      <td>0</td>\n",
       "      <td>0</td>\n",
       "      <td>0</td>\n",
       "      <td>0</td>\n",
       "      <td>0</td>\n",
       "      <td>0</td>\n",
       "      <td>0</td>\n",
       "      <td>0</td>\n",
       "      <td>0</td>\n",
       "      <td>0</td>\n",
       "    </tr>\n",
       "    <tr>\n",
       "      <th>Types</th>\n",
       "      <td>object</td>\n",
       "      <td>object</td>\n",
       "      <td>object</td>\n",
       "      <td>int64</td>\n",
       "      <td>float64</td>\n",
       "      <td>object</td>\n",
       "      <td>object</td>\n",
       "      <td>object</td>\n",
       "      <td>object</td>\n",
       "      <td>object</td>\n",
       "      <td>object</td>\n",
       "      <td>object</td>\n",
       "      <td>object</td>\n",
       "    </tr>\n",
       "  </tbody>\n",
       "</table>\n",
       "</div>"
      ],
      "text/plain": [
       "        country description designation points    price province region_1  \\\n",
       "Total         0           0           0      0        0        0        0   \n",
       "Percent       0           0           0      0        0        0        0   \n",
       "Types    object      object      object  int64  float64   object   object   \n",
       "\n",
       "        region_2 taster_name taster_twitter_handle   title variety  winery  \n",
       "Total          0           0                     0       0       0       0  \n",
       "Percent        0           0                     0       0       0       0  \n",
       "Types     object      object                object  object  object  object  "
      ]
     },
     "execution_count": 31,
     "metadata": {},
     "output_type": "execute_result"
    }
   ],
   "source": [
    "missing_data(fill_df)"
   ]
  },
  {
   "cell_type": "markdown",
   "metadata": {},
   "source": [
    "### 通过属性相关关系填充"
   ]
  },
  {
   "cell_type": "code",
   "execution_count": 36,
   "metadata": {
    "scrolled": false
   },
   "outputs": [
    {
     "data": {
      "text/html": [
       "<div>\n",
       "<style scoped>\n",
       "    .dataframe tbody tr th:only-of-type {\n",
       "        vertical-align: middle;\n",
       "    }\n",
       "\n",
       "    .dataframe tbody tr th {\n",
       "        vertical-align: top;\n",
       "    }\n",
       "\n",
       "    .dataframe thead th {\n",
       "        text-align: right;\n",
       "    }\n",
       "</style>\n",
       "<table border=\"1\" class=\"dataframe\">\n",
       "  <thead>\n",
       "    <tr style=\"text-align: right;\">\n",
       "      <th></th>\n",
       "      <th>points</th>\n",
       "      <th>price</th>\n",
       "    </tr>\n",
       "  </thead>\n",
       "  <tbody>\n",
       "    <tr>\n",
       "      <th>points</th>\n",
       "      <td>1.000000</td>\n",
       "      <td>0.397211</td>\n",
       "    </tr>\n",
       "    <tr>\n",
       "      <th>price</th>\n",
       "      <td>0.397211</td>\n",
       "      <td>1.000000</td>\n",
       "    </tr>\n",
       "  </tbody>\n",
       "</table>\n",
       "</div>"
      ],
      "text/plain": [
       "          points     price\n",
       "points  1.000000  0.397211\n",
       "price   0.397211  1.000000"
      ]
     },
     "execution_count": 36,
     "metadata": {},
     "output_type": "execute_result"
    }
   ],
   "source": [
    "data_df.corr()"
   ]
  },
  {
   "cell_type": "code",
   "execution_count": 37,
   "metadata": {},
   "outputs": [
    {
     "data": {
      "text/html": [
       "<div>\n",
       "<style scoped>\n",
       "    .dataframe tbody tr th:only-of-type {\n",
       "        vertical-align: middle;\n",
       "    }\n",
       "\n",
       "    .dataframe tbody tr th {\n",
       "        vertical-align: top;\n",
       "    }\n",
       "\n",
       "    .dataframe thead th {\n",
       "        text-align: right;\n",
       "    }\n",
       "</style>\n",
       "<table border=\"1\" class=\"dataframe\">\n",
       "  <thead>\n",
       "    <tr style=\"text-align: right;\">\n",
       "      <th></th>\n",
       "      <th>points</th>\n",
       "      <th>price</th>\n",
       "    </tr>\n",
       "  </thead>\n",
       "  <tbody>\n",
       "    <tr>\n",
       "      <th>points</th>\n",
       "      <td>1.000000</td>\n",
       "      <td>0.573772</td>\n",
       "    </tr>\n",
       "    <tr>\n",
       "      <th>price</th>\n",
       "      <td>0.573772</td>\n",
       "      <td>1.000000</td>\n",
       "    </tr>\n",
       "  </tbody>\n",
       "</table>\n",
       "</div>"
      ],
      "text/plain": [
       "          points     price\n",
       "points  1.000000  0.573772\n",
       "price   0.573772  1.000000"
      ]
     },
     "execution_count": 37,
     "metadata": {},
     "output_type": "execute_result"
    }
   ],
   "source": [
    "data_df.corr('spearman')"
   ]
  },
  {
   "cell_type": "markdown",
   "metadata": {},
   "source": [
    "### 通过相似对象填充"
   ]
  },
  {
   "cell_type": "code",
   "execution_count": null,
   "metadata": {},
   "outputs": [],
   "source": [
    "from fancyimpute import KNN\n",
    "\n",
    "features = ['points','price']\n",
    "train_data_x = data_df[features]\n",
    "train_data_x = pd.DataFrame(KNN(k=6).fit_transform(train_data_x), columns=features)"
   ]
  },
  {
   "cell_type": "code",
   "execution_count": null,
   "metadata": {},
   "outputs": [],
   "source": []
  }
 ],
 "metadata": {
  "kernelspec": {
   "display_name": "Python 3",
   "language": "python",
   "name": "python3"
  },
  "language_info": {
   "codemirror_mode": {
    "name": "ipython",
    "version": 3
   },
   "file_extension": ".py",
   "mimetype": "text/x-python",
   "name": "python",
   "nbconvert_exporter": "python",
   "pygments_lexer": "ipython3",
   "version": "3.6.5"
  }
 },
 "nbformat": 4,
 "nbformat_minor": 2
}
